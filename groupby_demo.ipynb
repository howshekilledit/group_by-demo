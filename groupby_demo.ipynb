{
 "cells": [
  {
   "cell_type": "code",
   "execution_count": 1,
   "id": "37ff144e",
   "metadata": {},
   "outputs": [],
   "source": [
    "#REFERENCE: https://raw.githubusercontent.com/fivethirtyeight/data/master/congress-age/congress-terms.csv\n",
    "#import dependencies\n",
    "import pandas as pd\n",
    "import matplotlib"
   ]
  },
  {
   "cell_type": "code",
   "execution_count": 4,
   "id": "1f6ecbfa",
   "metadata": {
    "collapsed": true
   },
   "outputs": [
    {
     "name": "stdout",
     "output_type": "stream",
     "text": [
      "   congress chamber bioguide firstname middlename   lastname suffix  \\\n",
      "0        80   house  M000112    Joseph  Jefferson  Mansfield    NaN   \n",
      "1        80   house  D000448    Robert        Lee   Doughton    NaN   \n",
      "2        80   house  S000001    Adolph    Joachim     Sabath    NaN   \n",
      "3        80   house  E000023   Charles     Aubrey      Eaton    NaN   \n",
      "4        80   house  L000296   William        NaN      Lewis    NaN   \n",
      "\n",
      "     birthday state party incumbent   termstart   age  \n",
      "0  1861-02-09    TX     D       Yes  1947-01-03  85.9  \n",
      "1  1863-11-07    NC     D       Yes  1947-01-03  83.2  \n",
      "2  1866-04-04    IL     D       Yes  1947-01-03  80.7  \n",
      "3  1868-03-29    NJ     R       Yes  1947-01-03  78.8  \n",
      "4  1868-09-22    KY     R        No  1947-01-03  78.3  \n"
     ]
    }
   ],
   "source": [
    "#read in congress terms dataset\n",
    "file = '../congress-terms.csv'\n",
    "df = pd.read_csv(file)\n",
    "print(df.head())"
   ]
  },
  {
   "cell_type": "code",
   "execution_count": 5,
   "id": "47a91796",
   "metadata": {
    "collapsed": true
   },
   "outputs": [
    {
     "name": "stdout",
     "output_type": "stream",
     "text": [
      "       congress chamber bioguide firstname middlename   lastname suffix  \\\n",
      "18091       113   house  H000067     Ralph         M.       Hall    NaN   \n",
      "18092       113   house  D000355      John         D.    Dingell    NaN   \n",
      "18093       113   house  C000714      John        NaN    Conyers    Jr.   \n",
      "18094       113   house  S000480    Louise   McIntosh  Slaughter    NaN   \n",
      "18095       113   house  R000053   Charles         B.     Rangel    NaN   \n",
      "\n",
      "         birthday state party incumbent   termstart   age  \n",
      "18091  1923-05-03    TX     R       Yes  2013-01-03  89.7  \n",
      "18092  1926-07-08    MI     D       Yes  2013-01-03  86.5  \n",
      "18093  1929-05-16    MI     D       Yes  2013-01-03  83.6  \n",
      "18094  1929-08-14    NY     D       Yes  2013-01-03  83.4  \n",
      "18095  1930-06-11    NY     D       Yes  2013-01-03  82.6  \n"
     ]
    }
   ],
   "source": [
    "#limit dataset to the 113th congress (2013 congress)\n",
    "df = df[df['congress'] == 113]\n",
    "print(df.head())"
   ]
  },
  {
   "cell_type": "code",
   "execution_count": 10,
   "id": "4c2b6a9c",
   "metadata": {
    "scrolled": true
   },
   "outputs": [
    {
     "name": "stdout",
     "output_type": "stream",
     "text": [
      "               age\n",
      "chamber           \n",
      "house    56.754214\n",
      "senate   61.286667\n"
     ]
    }
   ],
   "source": [
    "#print mean age by chamber (as of 2013)\n",
    "by_chamber_mean = df.groupby('chamber')[['age']].mean()\n",
    "print(by_chamber_mean)"
   ]
  },
  {
   "cell_type": "code",
   "execution_count": 11,
   "id": "f9340ddd",
   "metadata": {
    "scrolled": false
   },
   "outputs": [
    {
     "name": "stdout",
     "output_type": "stream",
     "text": [
      "         age\n",
      "party       \n",
      "D      60.40\n",
      "I      70.05\n",
      "R      56.10\n"
     ]
    }
   ],
   "source": [
    "by_party_median = df.groupby('party')[['age']].median()\n",
    "print(by_party_median)"
   ]
  },
  {
   "cell_type": "code",
   "execution_count": 17,
   "id": "1bc00def",
   "metadata": {
    "scrolled": true
   },
   "outputs": [
    {
     "data": {
      "text/plain": [
       "<AxesSubplot:title={'center':'Mean Age by Party'}, xlabel='Party', ylabel='Mean Age'>"
      ]
     },
     "execution_count": 17,
     "metadata": {},
     "output_type": "execute_result"
    },
    {
     "data": {
      "image/png": "[encoded data removed]",
      "text/plain": [
       "<Figure size 720x360 with 1 Axes>"
      ]
     },
     "metadata": {
      "needs_background": "light"
     },
     "output_type": "display_data"
    }
   ],
   "source": [
    "by_party_median.plot(kind = 'bar', title = 'Mean Age by Party', ylabel = 'Mean Age', xlabel = 'Party')"
   ]
  },
  {
   "cell_type": "code",
   "execution_count": 15,
   "id": "a905f080",
   "metadata": {},
   "outputs": [
    {
     "data": {
      "image/png": "[encoded data removed]",
      "text/plain": [
       "<Figure size 432x288 with 1 Axes>"
      ]
     },
     "metadata": {
      "needs_background": "light"
     },
     "output_type": "display_data"
    }
   ],
   "source": [
    "freq = df.groupby('chamber')['party'].value_counts()\n",
    "ax = freq.plot.barh()"
   ]
  },
  {
   "cell_type": "code",
   "execution_count": null,
   "id": "9d7c42ae",
   "metadata": {},
   "outputs": [],
   "source": []
  }
 ],
 "metadata": {
  "kernelspec": {
   "display_name": "Python 3 (ipykernel)",
   "language": "python",
   "name": "python3"
  },
  "language_info": {
   "codemirror_mode": {
    "name": "ipython",
    "version": 3
   },
   "file_extension": ".py",
   "mimetype": "text/x-python",
   "name": "python",
   "nbconvert_exporter": "python",
   "pygments_lexer": "ipython3",
   "version": "3.10.1"
  }
 },
 "nbformat": 4,
 "nbformat_minor": 5
}
